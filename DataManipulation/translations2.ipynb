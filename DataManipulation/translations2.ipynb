{
 "cells": [
  {
   "cell_type": "code",
   "execution_count": 2,
   "metadata": {},
   "outputs": [],
   "source": [
    "import requests\n",
    "from selectolax.parser import HTMLParser\n",
    "\n",
    "import json"
   ]
  },
  {
   "cell_type": "code",
   "execution_count": 21,
   "metadata": {},
   "outputs": [],
   "source": [
    "def get_html():\n",
    "    url = \"https://www.wikidex.net/wiki/Lista_de_habilidades\"\n",
    "    \n",
    "    headers = {\n",
    "        \"User-Agent\": \"Mozilla/5.0 (Windows NT 10.0; Win64; x64) AppleWebKit/537.36 (KHTML, like Gecko) Chrome/116.0.0.0 Safari/537.36\"\n",
    "    }\n",
    "    \n",
    "    data = requests.get(url)\n",
    "    html = HTMLParser(data.text)\n",
    "    return html\n",
    "\n",
    "\n",
    "def extract(html, css_selector, option='text'):\n",
    "    element = html.css_first(css_selector)\n",
    "    \n",
    "    if not element == None:\n",
    "        if option == 'text':\n",
    "            return element.text(strip=True)\n",
    "        elif option == 'attrs':\n",
    "            return element.attributes\n",
    "        elif option == 'title':\n",
    "            return element.attributes[option]\n",
    "        else:\n",
    "            return element\n",
    "        \n",
    "def save_json(data, filename):\n",
    "    with open(filename, 'w', encoding=\"UTF-8\") as f:\n",
    "        json.dump(data, f, indent=4, ensure_ascii=False)"
   ]
  },
  {
   "cell_type": "code",
   "execution_count": 30,
   "metadata": {},
   "outputs": [
    {
     "name": "stdout",
     "output_type": "stream",
     "text": [
      "Done 192 translations.\n"
     ]
    }
   ],
   "source": [
    "html = get_html()\n",
    "rows = html.css(\".tabpokemon tbody tr\")[1:]\n",
    "\n",
    "permitted_gens = ['Tercera generación', 'Cuarta generación', 'Quinta generación', 'Sexta generación']\n",
    "translations = {}\n",
    "\n",
    "for row in rows:\n",
    "    columns = row.css(\"td\")\n",
    "\n",
    "    ability = {\n",
    "        \"spa\": extract(columns[1], \"a\"),\n",
    "        \"eng\": extract(columns[1], \"i\"),\n",
    "        \"gen\": extract(columns[3], \"a\", 'title')\n",
    "    }\n",
    "    if ability['gen'] in permitted_gens:\n",
    "        translations[ability['spa']] = ability['eng']\n",
    "        \n",
    "\n",
    "print(f\"Done {len(translations)} translations.\")\n",
    "save_json(translations, \"translations_abilities.json\")"
   ]
  }
 ],
 "metadata": {
  "kernelspec": {
   "display_name": "yurai",
   "language": "python",
   "name": "python3"
  },
  "language_info": {
   "codemirror_mode": {
    "name": "ipython",
    "version": 3
   },
   "file_extension": ".py",
   "mimetype": "text/x-python",
   "name": "python",
   "nbconvert_exporter": "python",
   "pygments_lexer": "ipython3",
   "version": "3.10.12"
  },
  "orig_nbformat": 4
 },
 "nbformat": 4,
 "nbformat_minor": 2
}

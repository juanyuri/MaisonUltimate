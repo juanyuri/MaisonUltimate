{
 "cells": [
  {
   "cell_type": "code",
   "execution_count": 4,
   "metadata": {},
   "outputs": [
    {
     "name": "stdout",
     "output_type": "stream",
     "text": [
      "Done 191 translations.\n"
     ]
    }
   ],
   "source": [
    "import json\n",
    "import requests\n",
    "from dataclasses import dataclass\n",
    "from selectolax.parser import HTMLParser\n",
    "\n",
    "\n",
    "\n",
    "def get_html():\n",
    "    \"\"\"Returns an instance of HTMLParser with the HTML content of the page.\"\"\"\n",
    "    \n",
    "    url = \"https://www.wikidex.net/wiki/Lista_de_habilidades\"\n",
    "    \n",
    "    headers = {\n",
    "        \"User-Agent\": \"Mozilla/5.0 (Windows NT 10.0; Win64; x64) AppleWebKit/537.36 (KHTML, like Gecko) Chrome/116.0.0.0 Safari/537.36\"\n",
    "    }\n",
    "    \n",
    "    response = requests.get(url, headers=headers)\n",
    "    html_parser = HTMLParser(response.text)\n",
    "    return html_parser\n",
    "\n",
    "\n",
    "def extract(element, css_selector, option='text'):\n",
    "    \"\"\"Extracts the text or attributes of an element selected by a CSS selector.\"\"\"\n",
    "    selected_element = element.css_first(css_selector)\n",
    "    \n",
    "    if selected_element is not None:\n",
    "        if option == 'text':\n",
    "            return selected_element.text(strip=True)\n",
    "        elif option == 'attrs':\n",
    "            return selected_element.attributes\n",
    "        elif option == 'title':\n",
    "            return selected_element.attributes[option]\n",
    "        else:\n",
    "            return selected_element\n",
    "\n",
    "\n",
    "def save_json(data, filename):\n",
    "    \"\"\"Saves a dictionary as a JSON file.\"\"\"\n",
    "    \n",
    "    with open(filename, 'w', encoding=\"UTF-8\") as f:\n",
    "        json.dump(data, f, indent=4, ensure_ascii=False)\n",
    "\n",
    "\n",
    "\n",
    "\n",
    "PERMITTED_GENS = ['Tercera generación', 'Cuarta generación', 'Quinta generación', 'Sexta generación']\n",
    "\n",
    "@dataclass(slots=True)\n",
    "class Ability:\n",
    "    spa: str\n",
    "    eng: str\n",
    "    gen: str\n",
    "    \n",
    "\n",
    "html = get_html()\n",
    "rows = html.css(\".tabpokemon tbody tr\")[1:]\n",
    "\n",
    "permitted_gens = ['Tercera generación', 'Cuarta generación', 'Quinta generación', 'Sexta generación']\n",
    "translations = {}\n",
    "\n",
    "for row in rows[1:]:\n",
    "    columns = row.css(\"td\")\n",
    "\n",
    "    ability = Ability(\n",
    "        spa = extract(columns[1], \"a\"),\n",
    "        eng = extract(columns[1], \"i\"),\n",
    "        gen = extract(columns[3], \"a\", 'title')\n",
    "    )\n",
    "    \n",
    "    if ability.gen in permitted_gens:\n",
    "        translations[ability.spa] = ability.eng\n",
    "        \n",
    "\n",
    "print(f\"Done {len(translations)} translations.\")\n",
    "save_json(translations, \"translations_abilities.json\")"
   ]
  }
 ],
 "metadata": {
  "kernelspec": {
   "display_name": "yurai",
   "language": "python",
   "name": "python3"
  },
  "language_info": {
   "codemirror_mode": {
    "name": "ipython",
    "version": 3
   },
   "file_extension": ".py",
   "mimetype": "text/x-python",
   "name": "python",
   "nbconvert_exporter": "python",
   "pygments_lexer": "ipython3",
   "version": "3.10.12"
  },
  "orig_nbformat": 4
 },
 "nbformat": 4,
 "nbformat_minor": 2
}

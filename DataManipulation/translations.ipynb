{
 "cells": [
  {
   "cell_type": "code",
   "execution_count": null,
   "metadata": {},
   "outputs": [],
   "source": [
    "from bs4 import BeautifulSoup\n",
    "from selenium import webdriver\n",
    "from selenium.webdriver.chrome.service import Service\n",
    "from webdriver_manager.chrome import ChromeDriverManager\n",
    "\n",
    "import logging\n",
    "import json\n",
    "import os\n",
    "\n",
    "# Set up the web driver options and service\n",
    "options = webdriver.ChromeOptions()\n",
    "options.add_argument('--headless')\n",
    "options.add_argument('--no-sandbox')\n",
    "options.add_argument('--disable-dev-shm-usage')\n",
    "options.add_argument('--disable-blink-features=AutomationControlled')\n",
    "service = Service(ChromeDriverManager().install())\n",
    "\n",
    "# Setting up logging of information\n",
    "logging.basicConfig(level=logging.INFO, format='%(asctime)s - %(levelname)s - %(message)s')\n",
    "logger = logging.getLogger(__name__)\n",
    "\n",
    "# Define the base URL and the location to save the JSON\n",
    "url = 'https://www.wikidex.net/wiki/Lista_de_habilidades'\n",
    "fileName = 'i18n_abilities.json'\n",
    "\n",
    "# All generations we want to scrap the code and exceptions of items\n",
    "gens = ['Tercera generación', 'Cuarta generación', 'Quinta generación', 'Sexta generación']\n",
    "not_include = ['Cacofonía']\n",
    "\n",
    "def save_json(data, filename):\n",
    "    with open(filename, 'w', encoding=\"UTF-8\") as f:\n",
    "        json.dump(data, f, indent=4, ensure_ascii=False)"
   ]
  },
  {
   "cell_type": "code",
   "execution_count": null,
   "metadata": {},
   "outputs": [],
   "source": [
    "with webdriver.Chrome(service=service, options=options) as driver:\n",
    "    logger.info(\"Extracting abilities translations..\")\n",
    "    driver.get(url)\n",
    "    soup = BeautifulSoup(driver.page_source, 'html.parser')\n",
    "    table = soup.select_one(\"#tm-globalid-0\")\n",
    "    \n",
    "    items = table.select('tbody tr')\n",
    "    \n",
    "    translations = {}\n",
    "    for row in items:\n",
    "        columns = row.select('td')\n",
    "        \n",
    "        spa = columns[1].select_one('a').text\n",
    "        eng = columns[1].select_one('i').text\n",
    "        gen = columns[3].select_one('a').get('title')\n",
    "        \n",
    "        if spa in not_include:\n",
    "            continue\n",
    "        \n",
    "        if gen in gens:\n",
    "            translations[spa] = eng\n",
    "            logging.info(f'({gen}): {spa} --> {eng}')\n",
    "            \n",
    "    save_json(translations, fileName)\n",
    "    logger.info(f\"Saved all {len(translations)} translations into data.json\")\n",
    "logger.info(\"Saved all. Exiting program\")"
   ]
  }
 ],
 "metadata": {
  "kernelspec": {
   "display_name": "yurai",
   "language": "python",
   "name": "python3"
  },
  "language_info": {
   "codemirror_mode": {
    "name": "ipython",
    "version": 3
   },
   "file_extension": ".py",
   "mimetype": "text/x-python",
   "name": "python",
   "nbconvert_exporter": "python",
   "pygments_lexer": "ipython3",
   "version": "3.10.12"
  },
  "orig_nbformat": 4
 },
 "nbformat": 4,
 "nbformat_minor": 2
}
